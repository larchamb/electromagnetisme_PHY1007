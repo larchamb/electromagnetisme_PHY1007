{
 "metadata": {
  "name": ""
 },
 "nbformat": 3,
 "nbformat_minor": 0,
 "worksheets": [
  {
   "cells": [
    {
     "cell_type": "heading",
     "level": 1,
     "metadata": {},
     "source": [
      "Syst\u00e8mes de coordon\u00e9es"
     ]
    },
    {
     "cell_type": "heading",
     "level": 2,
     "metadata": {},
     "source": [
      "Cart\u00e9sien"
     ]
    },
    {
     "cell_type": "markdown",
     "metadata": {},
     "source": [
      "Vecteurs unitaires: $(\\hat{\\bf x},\\hat{\\bf y},\\hat{\\bf z})$\n",
      "\n",
      "Expression d'un vecteur ${\\bf{A}}$: $\\mathbf{A} = A_x \\hat{\\bf x} + A_y \\hat{\\bf y} + A_z \\hat{\\bf z}$\n",
      "\n",
      "Unit\u00e9 de longueur:\n",
      "$$ dl = \\hat{\\bf x}dx + \\hat{\\bf y}dy + \\hat{\\bf z}dz $$\n",
      "\n",
      "Unit\u00e9s de surface:\n",
      "$$\\begin{eqnarray}\n",
      "ds_x & = & dydz \\\\\n",
      "ds_y & = & dxdz \\\\\n",
      "ds_z & = & dxdy \\\\\n",
      "\\end{eqnarray}$$\n",
      "\n",
      "Unit\u00e9 de volume: $$ dv = dxdydz$$\n",
      "\n",
      "Expression des coordon\u00e9es en cylindrique:\n",
      "$$\\begin{eqnarray}\n",
      "r & = & \\sqrt{x^2+y^2} \\\\\n",
      "\\phi & = & \\tan^{-1}\\frac{y}{x} \\\\\n",
      "z & = & z \\\\\n",
      "\\end{eqnarray}$$\n",
      "\n",
      "Vecteurs unitaire cylindrique: \n",
      "$$\\begin{eqnarray}\n",
      "\\hat{\\bf r} & = & \\frac{x\\hat{\\bf x}+y\\hat{\\bf y}}{\\sqrt{x^2+y^2}} \\\\\n",
      "\\hat{\\bf \\phi} & = & \\frac{-y\\hat{\\bf x}+x\\hat{\\bf y}}{\\sqrt{x^2+y^2}} \\\\\n",
      "\\hat{\\bf z} & = & \\hat{\\bf z} \\\\\n",
      "\\end{eqnarray}$$\n",
      "\n",
      "Expression des coordon\u00e9es en sph\u00e9rique\n",
      "$$\\begin{eqnarray}\n",
      "R & = & \\sqrt{x^2+y^2+z^2} \\\\\n",
      "\\theta & = & \\tan^{-1}\\frac{\\sqrt{x^2+y^2}}{z} \\\\\n",
      "\\phi & = & \\tan^{-1}\\frac{y}{x}\\\\\n",
      "\\end{eqnarray}$$\n",
      "\n",
      "Vecteurs unitaire sph\u00e9rique: \n",
      "$$\\begin{eqnarray}\n",
      "\\hat{\\bf R} & = & \\frac{x\\hat{\\bf x}+y\\hat{\\bf y}+z\\hat{\\bf z}}{\\sqrt{x^2+y^2+z^2}} \\\\\n",
      "\\hat{\\bf \\theta} & = & \\frac{z(x\\hat{\\bf x}+y\\hat{\\bf y}) - (x^2+y^2)\\hat{\\bf z}}{\\sqrt{x^2+y^2+z^2}\\sqrt{x^2+y^2}} \\\\\n",
      "\\hat{\\bf \\phi} & = & \\frac{-y\\hat{\\bf x}+x\\hat{\\bf y}}{\\sqrt{x^2+y^2}} \\\\\n",
      "\\end{eqnarray}$$\n"
     ]
    },
    {
     "cell_type": "heading",
     "level": 2,
     "metadata": {},
     "source": [
      "Cylindrique"
     ]
    },
    {
     "cell_type": "markdown",
     "metadata": {},
     "source": [
      "Vecteurs unitaires: $(\\hat{\\bf r},\\hat{ \\bf \\phi},\\hat{\\bf z})$\n",
      "\n",
      "Expression d'un vecteur ${\\bf{A}}$: $\\mathbf{A} = A_r \\hat{\\bf r} + A_\\phi \\hat{\\bf \\phi} + A_z \\hat{\\bf z}$\n",
      "\n",
      "Unit\u00e9 de longueur:\n",
      "$$ dl = \\hat{\\bf r}dr + \\hat{\\bf \\phi}rd\\phi + \\hat{\\bf z}dz $$\n",
      "\n",
      "Unit\u00e9s de surface:\n",
      "$$\\begin{eqnarray}\n",
      "ds_r & = & rd\\phi dz \\\\\n",
      "ds_\\phi & = & drdz \\\\\n",
      "ds_z & = & rdrd\\phi \\\\\n",
      "\\end{eqnarray}$$\n",
      "\n",
      "Unit\u00e9 de volume: $$ dv = rdrd\\phi dz$$\n",
      "\n",
      "Expression des coordon\u00e9es en cart\u00e9sien:\n",
      "$$\\begin{eqnarray}\n",
      "x & = & r \\cos \\phi \\\\\n",
      "y & = & r \\sin \\phi \\\\\n",
      "z & = & z \\\\\n",
      "\\end{eqnarray}$$\n",
      "\n",
      "Vecteurs unitaires cart\u00e9sien:\n",
      "$$\\begin{eqnarray}\n",
      "\\hat{\\bf x} & = & \\cos \\phi \\hat{\\bf r} - \\sin \\phi \\hat{\\bf \\phi} \\\\\n",
      "\\hat{\\bf y} & = & \\sin \\phi \\hat{\\bf r} - \\cos \\phi \\hat{\\bf \\phi} \\\\\n",
      "\\hat{\\bf z} & = & \\hat{\\bf z} \\\\\n",
      "\\end{eqnarray}$$\n",
      "\n",
      "Expression des coordon\u00e9es en sph\u00e9rique:\n",
      "$$\\begin{eqnarray}\n",
      "R & = & \\sqrt{r^2 + z^2} \\\\\n",
      "\\theta & = & \\tan^{-1}(r/z) \\\\\n",
      "\\phi & = & \\phi \\\\\n",
      "\\end{eqnarray}$$\n",
      "\n",
      "Vecteurs unitaires sph\u00e9rique:\n",
      "$$\\begin{eqnarray}\n",
      "\\hat{\\bf R} & = & \\frac{r}{\\sqrt{r^2+z^2}}\\hat{\\bf r} + \\frac{z}{\\sqrt{r^2+z^2}}\\hat{\\bf z} \\\\\n",
      "\\hat{\\bf \\theta} & = & \\frac{z}{\\sqrt{r^2+z^2}}\\hat{\\bf r} + \\frac{r}{\\sqrt{r^2+z^2}}\\hat{\\bf z} \\\\\n",
      "\\hat{\\bf \\phi} & = & \\hat{\\bf \\phi} \\\\\n",
      "\\end{eqnarray}$$"
     ]
    },
    {
     "cell_type": "heading",
     "level": 2,
     "metadata": {},
     "source": [
      "Sph\u00e9rique"
     ]
    },
    {
     "cell_type": "markdown",
     "metadata": {},
     "source": [
      "Vecteurs unitaires: $(\\hat{\\bf R},\\hat{ \\bf \\theta},\\hat{\\bf \\phi})$\n",
      "\n",
      "\u00c0 noter que la coordon\u00e9e de rayon, $\\bf R$ est diff\u00e9rente de la coordon\u00e9e $\\bf r$ dans un r\u00e9f\u00e9rentiel cylindrique, mais que la coordon\u00e9e $\\bf \\phi$ est la m\u00eame dans ces deux r\u00e9f\u00e9rentiel.\n",
      "\n",
      "Expression d'un vecteur ${\\bf{A}}$: $\\mathbf{A} = A_R \\hat{\\bf R} + A_\\theta \\hat{\\bf \\theta} + A_\\phi \\hat{\\bf \\phi}$\n",
      "\n",
      "Unit\u00e9 de longueur:\n",
      "$$ dl = \\hat{\\bf R}dR + \\hat{\\bf \\theta}R d\\theta + \\hat{\\bf \\phi}R \\sin \\theta d\\phi $$\n",
      "\n",
      "Unit\u00e9s de surface:\n",
      "$$\\begin{eqnarray}\n",
      "ds_R & = & R^2 \\sin\\theta d\\theta d\\phi \\\\\n",
      "ds_\\theta & = & R \\sin\\theta dR d\\phi \\\\\n",
      "ds_\\phi & = & R dR d\\theta \\\\\n",
      "\\end{eqnarray}$$\n",
      "\n",
      "Unit\u00e9 de volume: $$ dv = R^2\\sin \\theta dR d\\theta d\\phi$$\n",
      "\n",
      "Expression des coordon\u00e9es en cart\u00e9sien:$$\\begin{eqnarray}\n",
      "x & = & R sin \\theta \\cos \\phi \\\\\n",
      "y & = & R \\sin \\theta \\sin \\phi \\\\\n",
      "z & = & R \\cos \\theta \\\\\n",
      "\\end{eqnarray}$$\n",
      "\n",
      "Relation entre coordon\u00e9es sph\u00e9riques et cart\u00e9siennes:\n",
      "$$\\begin{eqnarray}\n",
      "x & = & R \\sin \\theta \\cos \\phi \\\\\n",
      "y & = & R \\sin \\theta \\sin \\phi \\\\\n",
      "z & = & R \\cos \\theta \\\\\n",
      "\\end{eqnarray}$$\n",
      "\n",
      "Vecteurs unitaires cart\u00e9sien:\n",
      "$$\\begin{eqnarray}\n",
      "\\hat{\\bf x} & = & \\cos \\phi (\\sin \\theta \\hat{\\bf R} \\cos \\theta \\hat{\\bf \\theta}) - \\sin \\phi \\hat{\\bf \\phi} \\\\\n",
      "\\hat{\\bf y} & = & \\sin \\phi (\\sin \\theta \\hat{\\bf R} \\cos \\theta \\hat{\\bf \\theta}) + \\cos \\phi \\hat{\\bf \\phi} \\\\\n",
      "\\hat{\\bf z} & = & \\cos \\theta \\hat{\\bf R} - \\sin \\theta \\hat{\\bf \\theta} \\\\\n",
      "\\end{eqnarray}$$\n",
      "\n",
      "Relation entre coordon\u00e9es sph\u00e9riques et cylindrique:\n",
      "$$\\begin{eqnarray}\n",
      "r & = &  R\\sin \\theta \\\\\n",
      "\\phi & = & \\phi   \\\\\n",
      "z & = &  R \\cos \\theta \\\\\n",
      "\\end{eqnarray}$$\n",
      "\n",
      "Vecteurs unitaires cylindrique:\n",
      "$$\\begin{eqnarray}\n",
      "\\hat{\\bf r}    & = & \\sin\\theta\\hat{\\bf R} + \\cos \\theta \\hat{\\bf \\theta}\\\\\n",
      "\\hat{\\bf \\phi} & = & \\hat{\\bf \\phi} \\\\\n",
      "\\hat{\\bf z}    & = & \\cos\\theta \\hat{\\bf R} - \\sin\\theta \\hat{\\bf \\theta}\\\\\n",
      "\\end{eqnarray}$$"
     ]
    },
    {
     "cell_type": "heading",
     "level": 1,
     "metadata": {},
     "source": [
      "Op\u00e9rations vectorielles"
     ]
    },
    {
     "cell_type": "heading",
     "level": 2,
     "metadata": {},
     "source": [
      "Multiplication vectorielle"
     ]
    },
    {
     "cell_type": "markdown",
     "metadata": {},
     "source": [
      "Produit scalaire: $${\\bf A \\cdot B} = A_i B_i + A_j B_j + A_k B_k = AB\\cos(\\theta_{AB})$$\n",
      "\n",
      "Produit vectoriel: $${\\bf A \\times B} = \n",
      "\\left| \\begin{array}{ccc}\n",
      "\\hat{\\bf i} & \\hat{\\bf j} & \\hat{\\bf z} \\\\\n",
      "A_i & A_j & A_k \\\\\n",
      "B_i & B_j & B_k \\\\\n",
      "\\end{array} \\right|\n",
      "= \\hat{\\bf{n}}\\left|AB\\sin(\\theta_{AB})\\right|$$\n"
     ]
    },
    {
     "cell_type": "heading",
     "level": 2,
     "metadata": {},
     "source": [
      "Op\u00e9rateur $\\nabla$"
     ]
    },
    {
     "cell_type": "markdown",
     "metadata": {},
     "source": [
      "Op\u00e9rateur $del$, symbole $nabla$: $\\nabla$\n",
      "$$\n",
      "\\nabla = \\hat{\\bf u}_1 \\frac{\\partial}{h_1\\partial u_1} + \\hat{\\bf u}_2 \\frac{\\partial}{h_2\\partial u_2} + \\hat{\\bf u}_3 \\frac{\\partial}{h_3\\partial u_3}\n",
      "$$\n",
      "\n",
      "O\u00f9 les $h_i$ sont les facteurs d'\u00e9chelles (ou coefficient de m\u00e9trique) propre au syst\u00e8me de coordon\u00e9e:\n",
      "$$\n",
      "h_i = \\left| \\frac{\\partial {\\bf l}}{\\partial u_i} \\right| \n",
      "$$\n",
      "ou l'unit\u00e9 de longueur est: $d{\\bf l} = dx + dy + dz$\n",
      "\n",
      "Donc :\n",
      "\n",
      "En cart\u00e9sien: $h_x = h_y = h_z = 1$\n",
      "\n",
      "En cylindrique: $h_r = h_z = 1$, $h_\\phi = r$ \n",
      "\n",
      "En sph\u00e9rique: $h_R = 1$, $h_\\theta = R$, $h_\\phi = R\\sin\\theta$"
     ]
    },
    {
     "cell_type": "heading",
     "level": 2,
     "metadata": {},
     "source": [
      "Gradient"
     ]
    },
    {
     "cell_type": "markdown",
     "metadata": {},
     "source": [
      "Vecteur repr\u00e9sentant l'amplitude et la direction de changement spatial maximum d'un champ scalaire, $V(x,y,z)$\n",
      "$$ \\nabla V = \\hat{\\bf x}\\frac{\\partial V}{\\partial x} + \\hat{\\bf y}\\frac{\\partial V}{\\partial y} +\\hat{\\bf z}\\frac{\\partial V}{\\partial z}$$"
     ]
    },
    {
     "cell_type": "heading",
     "level": 2,
     "metadata": {},
     "source": [
      "Divergence"
     ]
    },
    {
     "cell_type": "markdown",
     "metadata": {},
     "source": [
      "La divergence d'un champ vectoriel, $\\bf A$, repr\u00e9sente le flux net sortant par unit\u00e9 de volume pour un volume tendant vers 0:\n",
      "$$ \\lim_{\\Delta v \\to 0} \\frac{\\oint_S {\\bf A} d{\\bf s}}{\\Delta v}$$\n",
      "\n",
      "En coordon\u00e9es cart\u00e9siennes, cette expression est \u00e9quivalente \u00e0 : $\\frac{\\partial A_x}{\\partial x}+\\frac{\\partial A_y}{\\partial y}+\\frac{\\partial A_z}{\\partial z}$\n",
      "\n",
      "On d\u00e9finis donc la divergence de $\\bf A$ comme:\n",
      "$$\\nabla \\cdot {\\bf A}$$\n",
      "\n",
      "Pour un syst\u00e8me de coordon\u00e9e g\u00e9n\u00e9rique $(u_1,u_2,u_3)$\n",
      "$$ \\nabla \\cdot {\\bf A} = \\frac{1}{h_1 h_2 h_3} \\left( \\frac{\\partial}{\\partial u_1} (h_2 h_3 A_{u_1}) + \\frac{\\partial}{\\partial u_2} (h_1 h_3 A_{u_2}) + \\frac{\\partial}{\\partial u_3} (h_1 h_2 A_{u_3}) \\right)$$"
     ]
    },
    {
     "cell_type": "heading",
     "level": 4,
     "metadata": {},
     "source": [
      "Th\u00e9or\u00e8me de Gauss"
     ]
    },
    {
     "cell_type": "markdown",
     "metadata": {},
     "source": [
      "L'int\u00e9grale volumique de la divergence d'un champ vectoriel est \u00e9gale au flux net sortant de la surface limitant le volume d'int\u00e9gration.\n",
      "$$ \\int_V \\nabla \\cdot {\\bf A} dv = \\oint_S {\\bf A} \\cdot d {\\bf s} $$\n",
      "\n",
      "Pour que ce th\u00e9or\u00e8me soit valide, le champ $\\bf A$ et sa d\u00e9riv\u00e9e doivent exister et \u00eatre continu sut $V$ et $S$"
     ]
    },
    {
     "cell_type": "heading",
     "level": 2,
     "metadata": {},
     "source": [
      "Rotationnel"
     ]
    },
    {
     "cell_type": "markdown",
     "metadata": {},
     "source": [
      "Le rotationel d'un champ vectoriel $\\bf{A}$, $\\nabla \\times {\\bf A}$, est un vecteur repr\u00e9sentant la circulation maximum de $\\bf{A}$ par unit\u00e9 de surface pour une surface infinit\u00e9simale dont la direction est normale \u00e0 la surface orient\u00e9e de mani\u00e8re \u00e0 maximiser la circulation.\n",
      "\n",
      "Circulation de $\\bf A$ pour un contour $C$: $\\oint_C {\\bf A} \\cdot dl$\n",
      "\n",
      "$$ \\nabla \\times {\\bf A} = \\lim_{\\Delta s \\to 0} \\frac{1}{\\Delta s}\\left( \\hat{\\bf n}\\oint_C {\\bf A} \\cdot dl \\right) $$\n",
      "\n",
      "Pour un syst\u00e8me de coordon\u00e9es g\u00e9n\u00e9rique $(u_1,u_2,u_3)$\n",
      "\n",
      "$$\\nabla \\times {\\bf A} = \\frac{1}{h_1 h_2 h_3}\n",
      "\\left| \\begin{array}{ccc}\n",
      "\\hat{\\bf u}_1 h_1 & \\hat{\\bf u}_2 h_2 & \\hat{\\bf u}_3 h_3\\\\\n",
      "\\frac{\\partial}{\\partial u_1} & \\frac{\\partial}{\\partial u_2} & \\frac{\\partial}{\\partial u_3} \\\\\n",
      "h_1 A_1 & h_2 A_2 & h_3 A_3 \\\\\n",
      "\\end{array} \\right|$$\n",
      "\n",
      "\n"
     ]
    },
    {
     "cell_type": "heading",
     "level": 4,
     "metadata": {},
     "source": [
      "Th\u00e9or\u00e8me de Stokes"
     ]
    },
    {
     "cell_type": "markdown",
     "metadata": {},
     "source": [
      "L'int\u00e9grale de surface du rotationnel d'un champ vectoriel sur une surface ouverte est \u00e9gale \u00e0 l'int\u00e9grale de ligne autour de la courbe d\u00e9finissant la surface\n",
      "\n",
      "$$ \\int_s (\\nabla \\times {\\bf A})\\cdot d{\\bf s} = \\oint_C {\\bf A}\\cdot d{\\bf l}$$\n",
      "\n",
      "Pour que ce th\u00e9or\u00e8me soit valide, le champ $\\bf A$ et sa d\u00e9riv\u00e9e doivent exister et \u00eatre continu sut $S$ et $C$. Si l'on int\u00e8gre le rotationel de $\\bf A$ sur une surface ferm\u00e9e, il n'y aura pas de contour d\u00e9limitant cette surface et donc:\n",
      "\n",
      "$$ \\oint_S (\\nabla \\times {\\bf A}) \\cdot d{\\bf s} = 0$$"
     ]
    }
   ],
   "metadata": {}
  }
 ]
}